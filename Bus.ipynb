{
 "cells": [
  {
   "cell_type": "code",
   "execution_count": 1,
   "metadata": {},
   "outputs": [
    {
     "name": "stdout",
     "output_type": "stream",
     "text": [
      "[(5, 0), (7, 2), (2, 4), (10, 7)]\n"
     ]
    }
   ],
   "source": [
    "# variables\n",
    "\n",
    "bus_occupation = 0\n",
    "\n",
    "list_in = [5, 7, 2, 10]\n",
    "list_out = [0, 2, 4, 7]\n",
    "\n",
    "stops = [(list_in[i],list_out[i]) for i in range (0,len(list_in))]\n",
    "\n",
    "print (stops)\n"
   ]
  },
  {
   "cell_type": "code",
   "execution_count": 2,
   "metadata": {},
   "outputs": [
    {
     "name": "stdout",
     "output_type": "stream",
     "text": [
      "There are 4 bus stops\n"
     ]
    }
   ],
   "source": [
    "# 1. Calculate the number of stops.\n",
    "\n",
    "print (\"There are\", len (stops), \"bus stops\")"
   ]
  },
  {
   "cell_type": "code",
   "execution_count": 3,
   "metadata": {},
   "outputs": [
    {
     "name": "stdout",
     "output_type": "stream",
     "text": [
      "(5, 10, 8, 11)\n"
     ]
    }
   ],
   "source": [
    "# 2. Assign a variable a list whose elements are the number of passengers in each stop: \n",
    "# Each item depends on the previous item in the list + in - out.\n",
    "\n",
    "stop1 = list_in [0] - list_out [0]\n",
    "stop2 = stop1 + list_in [1] - list_out [1]\n",
    "stop3 = stop2 + list_in [2] - list_out [2]\n",
    "stop4 = stop3 + list_in [3] - list_out [3]\n",
    "\n",
    "occupation_stops = (stop1, stop2, stop3, stop4)\n",
    "\n",
    "print (occupation_stops)\n",
    "\n",
    "#Needs to be improved !"
   ]
  },
  {
   "cell_type": "code",
   "execution_count": 4,
   "metadata": {},
   "outputs": [
    {
     "name": "stdout",
     "output_type": "stream",
     "text": [
      "The maximum occupation is 11 passengers\n"
     ]
    }
   ],
   "source": [
    "# 3. Find the maximum occupation of the bus.\n",
    "\n",
    "print (\"The maximum occupation is\", max (occupation_stops), \"passengers\")"
   ]
  },
  {
   "cell_type": "code",
   "execution_count": 5,
   "metadata": {},
   "outputs": [
    {
     "name": "stdout",
     "output_type": "stream",
     "text": [
      "the average occupation is 8.5\n",
      "the standard deviation is 2.6457513110645907\n"
     ]
    }
   ],
   "source": [
    "# 4. Calculate the average occupation. And the standard deviation.\n",
    "import statistics\n",
    "print (\"the average occupation is\", statistics.mean (occupation_stops))\n",
    "\n",
    "import statistics\n",
    "print (\"the standard deviation is\", statistics.stdev (occupation_stops))"
   ]
  }
 ],
 "metadata": {
  "kernelspec": {
   "display_name": "Python 3",
   "language": "python",
   "name": "python3"
  },
  "language_info": {
   "codemirror_mode": {
    "name": "ipython",
    "version": 3
   },
   "file_extension": ".py",
   "mimetype": "text/x-python",
   "name": "python",
   "nbconvert_exporter": "python",
   "pygments_lexer": "ipython3",
   "version": "3.7.3"
  }
 },
 "nbformat": 4,
 "nbformat_minor": 2
}
